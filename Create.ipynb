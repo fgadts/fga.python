{
  "nbformat": 4,
  "nbformat_minor": 0,
  "metadata": {
    "colab": {
      "provenance": [],
      "authorship_tag": "ABX9TyMX3CEDf87tRk1xEJVIjbT2",
      "include_colab_link": true
    },
    "kernelspec": {
      "name": "python3",
      "display_name": "Python 3"
    },
    "language_info": {
      "name": "python"
    }
  },
  "cells": [
    {
      "cell_type": "markdown",
      "metadata": {
        "id": "view-in-github",
        "colab_type": "text"
      },
      "source": [
        "<a href=\"https://colab.research.google.com/github/fgadts/fga.python/blob/main/Create.ipynb\" target=\"_parent\"><img src=\"https://colab.research.google.com/assets/colab-badge.svg\" alt=\"Open In Colab\"/></a>"
      ]
    },
    {
      "cell_type": "code",
      "execution_count": null,
      "metadata": {
        "colab": {
          "base_uri": "https://localhost:8080/"
        },
        "id": "9QrafVgakntZ",
        "outputId": "a8874c83-a9b2-4539-db9c-4cf05fc2dffa"
      },
      "outputs": [
        {
          "output_type": "stream",
          "name": "stdout",
          "text": [
            "0.8658045795368167\n"
          ]
        },
        {
          "output_type": "execute_result",
          "data": {
            "text/plain": [
              "3"
            ]
          },
          "metadata": {},
          "execution_count": 4
        }
      ],
      "source": [
        "# prompt: create random number using python\n",
        "\n",
        "import random\n",
        "\n",
        "random_number = random.random()  # Generates a random float between 0 and 1\n",
        "print(random_number)\n",
        "\n",
        "random_integer = random.randint(1, 10) # Generates a random integer between 1 and 10 (inclusive)\n",
        "random_integer\n"
      ]
    },
    {
      "cell_type": "code",
      "source": [
        "# prompt: generate alphabet\n",
        "\n",
        "import string\n",
        "\n",
        "alphabet = string.ascii_lowercase\n",
        "alphabet\n"
      ],
      "metadata": {
        "id": "eR8-n1-m-atw"
      },
      "execution_count": null,
      "outputs": []
    }
  ]
}